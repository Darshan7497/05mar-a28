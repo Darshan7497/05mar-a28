{
 "cells": [
  {
   "cell_type": "markdown",
   "id": "c00678c3-239f-4fdc-b6c8-f80cc1d734e4",
   "metadata": {},
   "source": [
    "# Q1. How can you create a Bokeh plot using Python code?"
   ]
  },
  {
   "cell_type": "markdown",
   "id": "37ed2ae4-a6df-47b9-9530-28e659bb16d5",
   "metadata": {},
   "source": [
    "To create a Bokeh plot using Python code, follow these general steps: \n",
    "\n",
    "1>Install the Bokeh library using pip.\n",
    "\n",
    "2>Import the necessary modules from the Bokeh library in your Python code. You can import the figure module to create a new figure for your plot, and the output_file and show modules to save and display your plot, respectively.\n",
    "\n",
    "3>Create a new plot object using the figure() function and specify the plot dimensions, title, axis labels, etc.\n",
    "\n",
    "4>Add glyphs to the plot, such as circles, lines, rectangles, etc. using the various glyph methods provided by Bokeh, like p.circle(x, y, size=10, color='red').\n",
    "\n",
    "5>Specify any interactive tools or widgets for the plot using the add_tools() method.\n",
    "\n",
    "6>Save the plot as an HTML file using the output_file() function, or show the plot using the show() function."
   ]
  },
  {
   "cell_type": "code",
   "execution_count": 2,
   "id": "471d2528-7a58-4d84-9a02-5591a461aed5",
   "metadata": {},
   "outputs": [],
   "source": [
    "from bokeh.plotting import figure, output_file, show\n",
    "import numpy as np\n",
    "\n",
    "# Generate some random data\n",
    "x = np.random.normal(size=100)\n",
    "y = np.random.normal(size=100)\n",
    "\n",
    "# Create a new plot object\n",
    "p = figure(title='My Scatter Plot', x_axis_label='X', y_axis_label='Y')\n",
    "\n",
    "# Add a circle glyph to the plot\n",
    "p.circle(x, y, size=10, color='red')\n",
    "\n",
    "# Save the plot as an HTML file\n",
    "output_file('scatter_plot.html')\n",
    "\n",
    "# Show the plot in a new tab\n",
    "show(p)"
   ]
  },
  {
   "cell_type": "markdown",
   "id": "193db6a0-ac33-4f99-be17-b55e8a78c2d1",
   "metadata": {},
   "source": [
    "# Q2. What are glyphs in Bokeh, and how can you add them to a Bokeh plot? Explain with an example."
   ]
  },
  {
   "cell_type": "markdown",
   "id": "abb5ef61-8acf-42c1-8c5d-567818bcfa32",
   "metadata": {},
   "source": [
    "In Bokeh, glyphs are visual markers that represent data points in a plot, such as circles, lines, rectangles, or triangles. They are added to a Bokeh plot using glyph methods.\n"
   ]
  },
  {
   "cell_type": "code",
   "execution_count": 3,
   "id": "45ded092-6f66-475a-8688-4101c207baf7",
   "metadata": {},
   "outputs": [],
   "source": [
    "from bokeh.plotting import figure, show\n",
    "from bokeh.sampledata.iris import flowers\n",
    "\n",
    "# Create a Figure object\n",
    "p = figure(title=\"Iris Dataset\")\n",
    "\n",
    "# Plot the data points using circles\n",
    "p.circle(x=flowers[\"petal_length\"], y=flowers[\"petal_width\"], size=8, alpha=0.8)\n",
    "\n",
    "# Add axis labels\n",
    "p.xaxis.axis_label = \"Petal Length\"\n",
    "p.yaxis.axis_label = \"Petal Width\"\n",
    "\n",
    "# Show the plot\n",
    "show(p)"
   ]
  },
  {
   "cell_type": "markdown",
   "id": "704299c8-785d-414d-bcf2-3c96871e77c9",
   "metadata": {},
   "source": [
    "# Q3. How can you customize the appearance of a Bokeh plot, including the axes, title, and legend?\n"
   ]
  },
  {
   "cell_type": "markdown",
   "id": "ae3f18a8-791a-4eac-b086-077f0ac6efa3",
   "metadata": {},
   "source": [
    "1>Changing plot dimensions: We can change the width and height of the plot using the plot_width and plot_height properties.\n",
    "\n",
    "2>Changing the title: We can add a title to the plot using the title property of the plot object.\n",
    "\n",
    "3>Changing the axis labels: We can change the axis labels by accessing the xaxis and yaxis properties of the plot and setting their labels using the axis_label property.\n",
    "\n",
    "4>Changing the legend: We can customize the legend by accessing the legend object of the plot and setting its properties, such as title, location, and orientation."
   ]
  },
  {
   "cell_type": "code",
   "execution_count": null,
   "id": "51a2a3b6-7016-4235-b4c6-9ab1dfd7367c",
   "metadata": {},
   "outputs": [],
   "source": [
    "from bokeh.plotting import figure, show\n",
    "from bokeh.models import Legend\n",
    "\n",
    "# create some data\n",
    "x = [1, 2, 3, 4, 5]\n",
    "y = [5, 4, 3, 2, 1]\n",
    "\n",
    "# create a figure object with custom dimensions and title\n",
    "p = figure(title='My Plot', plot_width=400, plot_height=400)\n",
    "\n",
    "# add a scatter glyph\n",
    "p.scatter(x, y, size=10, color='red', legend_label='My Data')\n",
    "\n",
    "# customize the axis labels\n",
    "p.xaxis.axis_label = 'X-Axis Label'\n",
    "p.yaxis.axis_label = 'Y-Axis Label'\n",
    "\n",
    "# customize the legend\n",
    "legend = Legend(items=[('My Data', [p.circle(x, y, size=10, color='red')])], title='Legend', location='top_left')\n",
    "p.add_layout(legend, 'right')\n",
    "\n",
    "# show the plot\n",
    "show(p)"
   ]
  },
  {
   "cell_type": "markdown",
   "id": "7aff9d26-2ace-4be1-96d4-9ced79a7d445",
   "metadata": {},
   "source": [
    "# Q4. What is a Bokeh server, and how can you use it to create interactive plots that can be updated in real time?\n"
   ]
  },
  {
   "cell_type": "markdown",
   "id": "9892ec5d-e377-41b9-a657-c10d0688f042",
   "metadata": {},
   "source": [
    "A Bokeh server is a Python process that allows you to create and deploy interactive Bokeh plots that can be updated in real-time based on user input or streaming data. Bokeh server enables the creation of interactive data applications that can be accessed from a web browser.\n",
    "\n",
    "To use Bokeh server, the user needs to write a Python script defining the desired interactive plots and the logic for updating them. The script is then executed using the Bokeh server command, which creates a web application that can be accessed through a web browser.\n",
    "\n",
    "The Bokeh server enables the creation of applications that can accept user inputs, such as sliders or drop-down menus, and update the displayed plots based on those inputs. This allows for the creation of dynamic, interactive visualizations that can be used for data exploration and analysis."
   ]
  },
  {
   "cell_type": "code",
   "execution_count": null,
   "id": "122269b2-2320-444a-9c53-e1593d5420c8",
   "metadata": {},
   "outputs": [],
   "source": []
  }
 ],
 "metadata": {
  "kernelspec": {
   "display_name": "Python 3 (ipykernel)",
   "language": "python",
   "name": "python3"
  },
  "language_info": {
   "codemirror_mode": {
    "name": "ipython",
    "version": 3
   },
   "file_extension": ".py",
   "mimetype": "text/x-python",
   "name": "python",
   "nbconvert_exporter": "python",
   "pygments_lexer": "ipython3",
   "version": "3.10.8"
  }
 },
 "nbformat": 4,
 "nbformat_minor": 5
}
